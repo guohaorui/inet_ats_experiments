{
 "cells": [
  {
   "cell_type": "code",
   "execution_count": 2,
   "id": "797f46e6",
   "metadata": {},
   "outputs": [],
   "source": [
    "import decimal\n",
    "decimal.getcontext().rounding = decimal.ROUND_CEILING\n",
    "with open('./traffic.conf','r') as f:\n",
    "    data = f.readlines()"
   ]
  },
  {
   "cell_type": "code",
   "execution_count": 4,
   "id": "c36cda79",
   "metadata": {},
   "outputs": [
    {
     "data": {
      "text/plain": [
       "['T0 9,7,4,6 0.075,0.025,0.052,0.070\\n',\n",
       " 'T1 5,9,7,4 0.035,0.095,0.125,0.013\\n',\n",
       " 'T2 9,3,10,2 0.123,0.036,0.092,0.027\\n',\n",
       " 'T3 5,2,7,6 0.012,0.098,0.075,0.046\\n']"
      ]
     },
     "execution_count": 4,
     "metadata": {},
     "output_type": "execute_result"
    }
   ],
   "source": [
    "data"
   ]
  },
  {
   "cell_type": "code",
   "execution_count": 36,
   "id": "39418efd",
   "metadata": {},
   "outputs": [
    {
     "name": "stdout",
     "output_type": "stream",
     "text": [
      "*.T0.numApps = 4\n",
      "*.T0.app[*].typename = \"UdpSourceApp\"\n",
      "*.T0.app[0..3].display-name = \"Class A\" + string(index)\n",
      "*.T0.app[0..3].io.destAddress = \"L0\"\n",
      "*.T0.app[0..3].io.destPort = 1000 + parent.index\n",
      "    \n",
      "# Flow 0\n",
      "*.T0.app[0].source.packetLength = 378 B - 58B\n",
      "*.T0.app[0].source.productionInterval = 0.0403ms\n",
      "*.T0.app[0].source.initialProductionOffset = 0.0403ms\n",
      "    \n",
      "# Flow 1\n",
      "*.T0.app[1].source.packetLength = 294 B - 58B\n",
      "*.T0.app[1].source.productionInterval = 0.0941ms\n",
      "*.T0.app[1].source.initialProductionOffset = 0.0941ms\n",
      "    \n",
      "# Flow 2\n",
      "*.T0.app[2].source.packetLength = 168 B - 58B\n",
      "*.T0.app[2].source.productionInterval = 0.0258ms\n",
      "*.T0.app[2].source.initialProductionOffset = 0.0258ms\n",
      "    \n",
      "# Flow 3\n",
      "*.T0.app[3].source.packetLength = 252 B - 58B\n",
      "*.T0.app[3].source.productionInterval = 0.0288ms\n",
      "*.T0.app[3].source.initialProductionOffset = 0.0288ms\n",
      "    \n",
      "*.T1.numApps = 4\n",
      "*.T1.app[*].typename = \"UdpSourceApp\"\n",
      "*.T1.app[0..3].display-name = \"Class A\" + string(index)\n",
      "*.T1.app[0..3].io.destAddress = \"L0\"\n",
      "*.T1.app[0..3].io.destPort = 1000 + parent.index\n",
      "    \n",
      "# Flow 0\n",
      "*.T1.app[0].source.packetLength = 210 B - 58B\n",
      "*.T1.app[0].source.productionInterval = 0.0480ms\n",
      "*.T1.app[0].source.initialProductionOffset = 0.0480ms\n",
      "    \n",
      "# Flow 1\n",
      "*.T1.app[1].source.packetLength = 378 B - 58B\n",
      "*.T1.app[1].source.productionInterval = 0.0318ms\n",
      "*.T1.app[1].source.initialProductionOffset = 0.0318ms\n",
      "    \n",
      "# Flow 2\n",
      "*.T1.app[2].source.packetLength = 294 B - 58B\n",
      "*.T1.app[2].source.productionInterval = 0.0188ms\n",
      "*.T1.app[2].source.initialProductionOffset = 0.0188ms\n",
      "    \n",
      "# Flow 3\n",
      "*.T1.app[3].source.packetLength = 168 B - 58B\n",
      "*.T1.app[3].source.productionInterval = 0.1034ms\n",
      "*.T1.app[3].source.initialProductionOffset = 0.1034ms\n",
      "    \n",
      "*.T2.numApps = 4\n",
      "*.T2.app[*].typename = \"UdpSourceApp\"\n",
      "*.T2.app[0..3].display-name = \"Class A\" + string(index)\n",
      "*.T2.app[0..3].io.destAddress = \"L0\"\n",
      "*.T2.app[0..3].io.destPort = 1000 + parent.index\n",
      "    \n",
      "# Flow 0\n",
      "*.T2.app[0].source.packetLength = 378 B - 58B\n",
      "*.T2.app[0].source.productionInterval = 0.0246ms\n",
      "*.T2.app[0].source.initialProductionOffset = 0.0246ms\n",
      "    \n",
      "# Flow 1\n",
      "*.T2.app[1].source.packetLength = 126 B - 58B\n",
      "*.T2.app[1].source.productionInterval = 0.0280ms\n",
      "*.T2.app[1].source.initialProductionOffset = 0.0280ms\n",
      "    \n",
      "# Flow 2\n",
      "*.T2.app[2].source.packetLength = 420 B - 58B\n",
      "*.T2.app[2].source.productionInterval = 0.0365ms\n",
      "*.T2.app[2].source.initialProductionOffset = 0.0365ms\n",
      "    \n",
      "# Flow 3\n",
      "*.T2.app[3].source.packetLength = 84 B - 58B\n",
      "*.T2.app[3].source.productionInterval = 0.0249ms\n",
      "*.T2.app[3].source.initialProductionOffset = 0.0249ms\n",
      "    \n",
      "*.T3.numApps = 4\n",
      "*.T3.app[*].typename = \"UdpSourceApp\"\n",
      "*.T3.app[0..3].display-name = \"Class A\" + string(index)\n",
      "*.T3.app[0..3].io.destAddress = \"L0\"\n",
      "*.T3.app[0..3].io.destPort = 1000 + parent.index\n",
      "    \n",
      "# Flow 0\n",
      "*.T3.app[0].source.packetLength = 210 B - 58B\n",
      "*.T3.app[0].source.productionInterval = 0.1400ms\n",
      "*.T3.app[0].source.initialProductionOffset = 0.1400ms\n",
      "    \n",
      "# Flow 1\n",
      "*.T3.app[1].source.packetLength = 84 B - 58B\n",
      "*.T3.app[1].source.productionInterval = 0.0069ms\n",
      "*.T3.app[1].source.initialProductionOffset = 0.0069ms\n",
      "    \n",
      "# Flow 2\n",
      "*.T3.app[2].source.packetLength = 294 B - 58B\n",
      "*.T3.app[2].source.productionInterval = 0.0314ms\n",
      "*.T3.app[2].source.initialProductionOffset = 0.0314ms\n",
      "    \n",
      "# Flow 3\n",
      "*.T3.app[3].source.packetLength = 252 B - 58B\n",
      "*.T3.app[3].source.productionInterval = 0.0438ms\n",
      "*.T3.app[3].source.initialProductionOffset = 0.0438ms\n",
      "    \n"
     ]
    }
   ],
   "source": [
    "def traffic_gen(data_idx):\n",
    "    # traffic generation\n",
    "    link_rate = 1e9\n",
    "    factor = 336 / 8\n",
    "    # get packetlength + rate\n",
    "#     data_idx = 0\n",
    "    name = data[data_idx].split(' ')[0]\n",
    "    pkt_length = data[data_idx].split(' ')[1].split(',')\n",
    "    rate = data[data_idx].split(' ')[2].split('\\n')[0].split(',')\n",
    "    template = \"\"\"*.{name}.numApps = 4\n",
    "*.{name}.app[*].typename = \"UdpSourceApp\"\n",
    "*.{name}.app[0..3].display-name = \"Class A\" + string(index)\n",
    "*.{name}.app[0..3].io.destAddress = \"L0\"\n",
    "*.{name}.app[0..3].io.destPort = 1000 + parent.index\n",
    "    \"\"\"\n",
    "    subtemplate=\"\"\"\n",
    "# Flow {idx}\n",
    "*.{name}.app[{idx}].source.packetLength = {length} B - 58B\n",
    "*.{name}.app[{idx}].source.productionInterval = {interval}ms\n",
    "*.{name}.app[{idx}].source.initialProductionOffset = {interval}ms\n",
    "    \"\"\"\n",
    "    ret = template.format(name=name)\n",
    "\n",
    "    for i in range(0,4):\n",
    "        length = int(int(pkt_length[i])*factor)\n",
    "        interval = round(length / (link_rate/8*float(rate[i])) * 1000,4)\n",
    "        interval = decimal.Decimal(interval).quantize(decimal.Decimal(\"0.0001\"))\n",
    "        ret += subtemplate.format(name=name,idx=i,length=length,interval=interval)\n",
    "    print(ret)\n",
    "for i in range(0,4):\n",
    "    traffic_gen(i)"
   ]
  },
  {
   "cell_type": "code",
   "execution_count": 28,
   "id": "a2d3fa70",
   "metadata": {},
   "outputs": [
    {
     "data": {
      "text/plain": [
       "['0.075', '0.025', '0.052', '0.070']"
      ]
     },
     "execution_count": 28,
     "metadata": {},
     "output_type": "execute_result"
    }
   ],
   "source": [
    "rate"
   ]
  },
  {
   "cell_type": "code",
   "execution_count": 3,
   "id": "7440ea13",
   "metadata": {},
   "outputs": [
    {
     "name": "stdout",
     "output_type": "stream",
     "text": [
      "\n",
      "*.T0.bridging.streamFilter.egress.numStreams = 4\n",
      "*.T0.bridging.streamFilter.egress.classifier.mapping = {\"Class A0\": 0, \"Class A1\": 1, \"Class A2\": 2, \"Class A3\": 3}\n",
      "    \n",
      "*.T0.bridging.streamFilter.egress.meter[0].committedInformationRate = 75.0kbps\n",
      "*.T0.bridging.streamFilter.egress.meter[0].committedBurstSize = 378B\n",
      "    \n",
      "*.T0.bridging.streamFilter.egress.meter[1].committedInformationRate = 25.0kbps\n",
      "*.T0.bridging.streamFilter.egress.meter[1].committedBurstSize = 294B\n",
      "    \n",
      "*.T0.bridging.streamFilter.egress.meter[2].committedInformationRate = 52.0kbps\n",
      "*.T0.bridging.streamFilter.egress.meter[2].committedBurstSize = 168B\n",
      "    \n",
      "*.T0.bridging.streamFilter.egress.meter[3].committedInformationRate = 70.0kbps\n",
      "*.T0.bridging.streamFilter.egress.meter[3].committedBurstSize = 252B\n",
      "    \n",
      "\n",
      "*.T1.bridging.streamFilter.egress.numStreams = 4\n",
      "*.T1.bridging.streamFilter.egress.classifier.mapping = {\"Class A0\": 0, \"Class A1\": 1, \"Class A2\": 2, \"Class A3\": 3}\n",
      "    \n",
      "*.T1.bridging.streamFilter.egress.meter[0].committedInformationRate = 35.0kbps\n",
      "*.T1.bridging.streamFilter.egress.meter[0].committedBurstSize = 210B\n",
      "    \n",
      "*.T1.bridging.streamFilter.egress.meter[1].committedInformationRate = 95.0kbps\n",
      "*.T1.bridging.streamFilter.egress.meter[1].committedBurstSize = 378B\n",
      "    \n",
      "*.T1.bridging.streamFilter.egress.meter[2].committedInformationRate = 125.0kbps\n",
      "*.T1.bridging.streamFilter.egress.meter[2].committedBurstSize = 294B\n",
      "    \n",
      "*.T1.bridging.streamFilter.egress.meter[3].committedInformationRate = 13.0kbps\n",
      "*.T1.bridging.streamFilter.egress.meter[3].committedBurstSize = 168B\n",
      "    \n",
      "\n",
      "*.T2.bridging.streamFilter.egress.numStreams = 4\n",
      "*.T2.bridging.streamFilter.egress.classifier.mapping = {\"Class A0\": 0, \"Class A1\": 1, \"Class A2\": 2, \"Class A3\": 3}\n",
      "    \n",
      "*.T2.bridging.streamFilter.egress.meter[0].committedInformationRate = 123.0kbps\n",
      "*.T2.bridging.streamFilter.egress.meter[0].committedBurstSize = 378B\n",
      "    \n",
      "*.T2.bridging.streamFilter.egress.meter[1].committedInformationRate = 36.0kbps\n",
      "*.T2.bridging.streamFilter.egress.meter[1].committedBurstSize = 126B\n",
      "    \n",
      "*.T2.bridging.streamFilter.egress.meter[2].committedInformationRate = 92.0kbps\n",
      "*.T2.bridging.streamFilter.egress.meter[2].committedBurstSize = 420B\n",
      "    \n",
      "*.T2.bridging.streamFilter.egress.meter[3].committedInformationRate = 27.0kbps\n",
      "*.T2.bridging.streamFilter.egress.meter[3].committedBurstSize = 84B\n",
      "    \n",
      "\n",
      "*.T3.bridging.streamFilter.egress.numStreams = 4\n",
      "*.T3.bridging.streamFilter.egress.classifier.mapping = {\"Class A0\": 0, \"Class A1\": 1, \"Class A2\": 2, \"Class A3\": 3}\n",
      "    \n",
      "*.T3.bridging.streamFilter.egress.meter[0].committedInformationRate = 12.0kbps\n",
      "*.T3.bridging.streamFilter.egress.meter[0].committedBurstSize = 210B\n",
      "    \n",
      "*.T3.bridging.streamFilter.egress.meter[1].committedInformationRate = 98.0kbps\n",
      "*.T3.bridging.streamFilter.egress.meter[1].committedBurstSize = 84B\n",
      "    \n",
      "*.T3.bridging.streamFilter.egress.meter[2].committedInformationRate = 75.0kbps\n",
      "*.T3.bridging.streamFilter.egress.meter[2].committedBurstSize = 294B\n",
      "    \n",
      "*.T3.bridging.streamFilter.egress.meter[3].committedInformationRate = 46.0kbps\n",
      "*.T3.bridging.streamFilter.egress.meter[3].committedBurstSize = 252B\n",
      "    \n"
     ]
    }
   ],
   "source": [
    "def filter_conf_gen(data_idx):\n",
    "    # egress per-stream filtering\n",
    "    link_rate = 1e9\n",
    "    factor = 336 / 8\n",
    "    # get packetlength + rate\n",
    "    # data_idx = 0\n",
    "    name = data[data_idx].split(' ')[0]\n",
    "    pkt_length = data[data_idx].split(' ')[1].split(',')\n",
    "    rate = data[data_idx].split(' ')[2].split('\\n')[0].split(',')\n",
    "    template = \"\"\"\n",
    "*.{name}.bridging.streamFilter.egress.numStreams = 4\n",
    "*.{name}.bridging.streamFilter.egress.classifier.mapping = {{\"Class A0\": 0, \"Class A1\": 1, \"Class A2\": 2, \"Class A3\": 3}}\n",
    "    \"\"\"\n",
    "    subtemplate = \"\"\"\n",
    "*.{name}.bridging.streamFilter.egress.meter[{idx}].committedInformationRate = {rate}kbps\n",
    "*.{name}.bridging.streamFilter.egress.meter[{idx}].committedBurstSize = {length}B\n",
    "    \"\"\"\n",
    "    ret = template.format(name=name)\n",
    "    for i in range(0,4):\n",
    "        length = int(int(pkt_length[i])*factor)\n",
    "        r = link_rate*float(rate[i]) / 1000 / 1000\n",
    "        ret += subtemplate.format(name=name,idx=i,rate=r,length=length)\n",
    "    print(ret)\n",
    "for i in range(0,4):\n",
    "    filter_conf_gen(i)\n",
    "    "
   ]
  },
  {
   "cell_type": "code",
   "execution_count": 68,
   "id": "fbd8f782",
   "metadata": {},
   "outputs": [],
   "source": [
    "pkt_lens = []\n",
    "for data_idx in range(0,4):\n",
    "    pkt_lens.extend([int(a) for a in data[data_idx].split(' ')[1].split(',')])"
   ]
  },
  {
   "cell_type": "code",
   "execution_count": 70,
   "id": "4ef265c7",
   "metadata": {},
   "outputs": [
    {
     "data": {
      "text/plain": [
       "3990.0"
      ]
     },
     "execution_count": 70,
     "metadata": {},
     "output_type": "execute_result"
    }
   ],
   "source": [
    "sum(pkt_lens) * factor"
   ]
  }
 ],
 "metadata": {
  "kernelspec": {
   "display_name": "Python 3 (ipykernel)",
   "language": "python",
   "name": "python3"
  },
  "language_info": {
   "codemirror_mode": {
    "name": "ipython",
    "version": 3
   },
   "file_extension": ".py",
   "mimetype": "text/x-python",
   "name": "python",
   "nbconvert_exporter": "python",
   "pygments_lexer": "ipython3",
   "version": "3.9.9"
  }
 },
 "nbformat": 4,
 "nbformat_minor": 5
}
